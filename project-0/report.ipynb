{
 "cells": [
  {
   "cell_type": "markdown",
   "id": "38e76daa-94e9-40d9-8b1e-fd7f00bb069b",
   "metadata": {},
   "source": [
    "# Project 0 Report\n",
    "\n",
    "You will submit a report in the style of a Jupyter Notebook (or similar) with **at least** the following:\n",
    "\n",
    "* Throughput-latency graphs for median, 95th, and 99th percentile latency across different workloads\n",
    "* Using these graphs, an analysis of the different performance characteristics between the closed and open-loop clients.\n",
    "\n",
    "While this is the minimum requirement, your report should describe and justify your design decisions and provide evidence that the performance characteristics you discuss are represented correctly in whichever way you need to. For example, you can include flamegraphs in your report.\n",
    "\n",
    "A few tips on graph-making:\n",
    "\n",
    "1. A clear title\n",
    "2. X and Y axes should have labels and the units\n",
    "3. Use a legend if necessary but don't make the figure too busy (e.g., too many lines)"
   ]
  },
  {
   "cell_type": "markdown",
   "id": "edca5e11-c287-4290-adf7-7fd8982f472e",
   "metadata": {},
   "source": [
    "## Closed Loop"
   ]
  },
  {
   "cell_type": "markdown",
   "id": "96b7f24f-ff6d-4a71-b029-5ffd49cc06bd",
   "metadata": {},
   "source": [
    "### Throughput-Latency Graphs"
   ]
  },
  {
   "cell_type": "markdown",
   "id": "680ec349-517d-4d0b-b100-0644e6cfede1",
   "metadata": {},
   "source": [
    "#### Closed Loop Median"
   ]
  },
  {
   "cell_type": "markdown",
   "id": "de65178b-d0d5-46af-80b5-5bfa59effa67",
   "metadata": {},
   "source": [
    "#### Closed Loop P95"
   ]
  },
  {
   "cell_type": "markdown",
   "id": "672c115a-1655-448d-82f4-7a0c0ec372e4",
   "metadata": {},
   "source": [
    "#### Closed Loop P99"
   ]
  },
  {
   "cell_type": "markdown",
   "id": "be3df103-ffdd-4012-8820-c4526ddcf40b",
   "metadata": {},
   "source": [
    "## Analysis:\n",
    "\n",
    "Describe the graphs above. Why do they exhibit this pattern?"
   ]
  },
  {
   "cell_type": "markdown",
   "id": "a5fe216a-c31d-4ab2-aba0-5eece34b1f51",
   "metadata": {},
   "source": [
    "## Open Loop"
   ]
  },
  {
   "cell_type": "markdown",
   "id": "73a7fb53-e4aa-465c-9cb2-d9b457f17f3e",
   "metadata": {},
   "source": [
    "### Throughput-Latency Graphs"
   ]
  },
  {
   "cell_type": "markdown",
   "id": "899c8ab2-1b7e-4631-a76d-0e66f2f78725",
   "metadata": {},
   "source": [
    "#### Open Loop Median"
   ]
  },
  {
   "cell_type": "markdown",
   "id": "a05a0341-0b6f-459f-96d4-aea2ce1f26ad",
   "metadata": {},
   "source": [
    "#### Open Loop P95"
   ]
  },
  {
   "cell_type": "markdown",
   "id": "4d280743-c032-4f1f-8025-1e7f5e310e5d",
   "metadata": {},
   "source": [
    "#### Open Loop P99"
   ]
  },
  {
   "cell_type": "markdown",
   "id": "9dfd87f1-494e-4980-808d-854ce2866826",
   "metadata": {},
   "source": [
    "## Analysis:\n",
    "\n",
    "Describe the graphs above. Why do they exhibit this pattern?"
   ]
  },
  {
   "cell_type": "markdown",
   "id": "d818a8ec-5bc8-4a9c-8224-4ca754f7401f",
   "metadata": {},
   "source": [
    "## Design decisions\n",
    "\n",
    "List out key design decisions and justify each. Use flamegraphs or perf report from your experiments in the VM"
   ]
  }
 ],
 "metadata": {
  "kernelspec": {
   "display_name": "Python 3 (ipykernel)",
   "language": "python",
   "name": "python3"
  },
  "language_info": {
   "codemirror_mode": {
    "name": "ipython",
    "version": 3
   },
   "file_extension": ".py",
   "mimetype": "text/x-python",
   "name": "python",
   "nbconvert_exporter": "python",
   "pygments_lexer": "ipython3",
   "version": "3.13.0"
  }
 },
 "nbformat": 4,
 "nbformat_minor": 5
}
